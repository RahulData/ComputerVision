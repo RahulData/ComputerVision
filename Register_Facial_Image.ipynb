{
 "cells": [
  {
   "cell_type": "markdown",
   "metadata": {},
   "source": [
    "## - Captures the Image only when a Face is detected in the Frame\n",
    "## - Does not Capture the Image if Multiple Faces detected in the Frame"
   ]
  },
  {
   "cell_type": "code",
   "execution_count": null,
   "metadata": {
    "collapsed": true
   },
   "outputs": [],
   "source": []
  },
  {
   "cell_type": "code",
   "execution_count": 1,
   "metadata": {
    "collapsed": true
   },
   "outputs": [],
   "source": [
    "# https://media.readthedocs.org/pdf/face-recognition/latest/face-recognition.pdf\n",
    "# https://medium.com/@ageitgey/machine-learning-is-fun-part-4-modern-face-recognition-with-deep-learning-c3cffc121d78\n",
    "import face_recognition\n",
    "import cv2\n",
    "import numpy as np\n",
    "import glob\n",
    "import os\n",
    "import logging\n",
    "import pickle"
   ]
  },
  {
   "cell_type": "code",
   "execution_count": 2,
   "metadata": {
    "collapsed": true
   },
   "outputs": [],
   "source": [
    "# adapted from the Deep Learning: Face Recognition course from LinkedIn Learning\n",
    "\n",
    "IMAGES_PATH = './intranet_images'  # put your reference images in here\n",
    "#IMAGES_PATH = './images'    # put your reference images in here\n",
    "CAMERA_DEVICE_ID = 0\n",
    "MAX_DISTANCE = 0.6  # increase to make recognition less strict, decrease to make more strict\n",
    "\n",
    "# Define the codec and create VideoWriter object\n",
    "fourcc = cv2.VideoWriter_fourcc(*'XVID')\n",
    "out = cv2.VideoWriter('output/brim.avi', fourcc, 7.0, (640, 480))"
   ]
  },
  {
   "cell_type": "code",
   "execution_count": 3,
   "metadata": {
    "collapsed": true
   },
   "outputs": [],
   "source": [
    "def paint_detected_face_on_image(frame, location, name=None):\n",
    "    \"\"\"\n",
    "    Paint a rectangle around the face and write the name\n",
    "    \"\"\"\n",
    "    # unpack the coordinates from the location tuple\n",
    "    top, right, bottom, left = location\n",
    "\n",
    "    if name is None:\n",
    "        name = 'Unknown'\n",
    "        color = (0, 0, 255)  # red for unrecognized face\n",
    "    else:\n",
    "        color = (0, 128, 0)  # dark green for recognized face\n",
    "\n",
    "    # Draw a box around the face\n",
    "    cv2.rectangle(frame, (left, top), (right, bottom), color, 2)\n",
    "\n",
    "    # Draw a label with a name below the face\n",
    "    cv2.rectangle(frame, (left, top - 35), (right, top), color, cv2.FILLED)\n",
    "    cv2.putText(frame, name, (left + 6, top - 6), cv2.FONT_HERSHEY_DUPLEX, 1.0, (255, 255, 255), 1)"
   ]
  },
  {
   "cell_type": "code",
   "execution_count": 6,
   "metadata": {},
   "outputs": [
    {
     "name": "stdout",
     "output_type": "stream",
     "text": [
      "User Exit Press\n",
      "Number of Faces detected: 1\n",
      "Face detected and User Accepted\n",
      "Captured User Image\n",
      "User Name? t\n"
     ]
    }
   ],
   "source": [
    "# Open a handler for the camera\n",
    "video_capture = cv2.VideoCapture(CAMERA_DEVICE_ID)\n",
    "\n",
    "# face_detected = False\n",
    "\n",
    "while video_capture.isOpened():\n",
    "    # Grab a single frame of video (and check if it went ok)\n",
    "    ok, frame = video_capture.read()\n",
    "    if not ok:\n",
    "        logging.error(\"Could not read frame from camera. Stopping video capture.\")\n",
    "        break\n",
    "\n",
    "    # flip image\n",
    "#     frame = cv2.flip(frame, 1)\n",
    "    orig_frame = frame.copy()\n",
    "    image = frame.copy()\n",
    "    image = image[:, :, ::-1]\n",
    "    \n",
    "    # This returns an array of locations of all the faces in the current frame\n",
    "    locations = face_recognition.face_locations(frame)\n",
    "    \n",
    "#     print(location)\n",
    "#     print(type(location))\n",
    "#     top, right, bottom, left = location[0]\n",
    "    # put recognition info on the image\n",
    "    for location in locations:\n",
    "        paint_detected_face_on_image(frame, location, 'Face Image')\n",
    "#     try:\n",
    "#         paint_detected_face_on_image(frame, location[0], 'Face Image')\n",
    "#         face_detected = True\n",
    "#     except:\n",
    "#         face_detected = False\n",
    "#         print('Some error occured')\n",
    "    one_face_only = False\n",
    "    if len(locations)==1:\n",
    "        one_face_only = True\n",
    "\n",
    "    # Display the resulting image\n",
    "    cv2.imshow('Video', frame)\n",
    "\n",
    "    # write the flipped frame\n",
    "    out.write(frame)\n",
    "\n",
    "#     if cv2.waitKey(1) & 0xFF == ord('q'):\n",
    "#         print('User Exit')\n",
    "#         break\n",
    "    if cv2.waitKey(1) & 0xFF == ord('q'):\n",
    "        print('User Exit Press')\n",
    "        print('Number of Faces detected: ' + str(len(locations)))        \n",
    "        if one_face_only:\n",
    "            print('Face detected and User Accepted')\n",
    "            break\n",
    "\n",
    "print('Captured User Image')\n",
    "user_name = input(\"User Name? \")\n",
    "cv2.imwrite(user_name + '.jpg',orig_frame)\n",
    "\n",
    "video_capture.release()\n",
    "out.release()\n",
    "cv2.destroyAllWindows()\n",
    "\n",
    "# Release handle to the webcam\n"
   ]
  },
  {
   "cell_type": "code",
   "execution_count": null,
   "metadata": {
    "collapsed": true
   },
   "outputs": [],
   "source": []
  },
  {
   "cell_type": "code",
   "execution_count": null,
   "metadata": {
    "collapsed": true
   },
   "outputs": [],
   "source": []
  },
  {
   "cell_type": "code",
   "execution_count": null,
   "metadata": {
    "collapsed": true
   },
   "outputs": [],
   "source": []
  },
  {
   "cell_type": "code",
   "execution_count": null,
   "metadata": {
    "collapsed": true
   },
   "outputs": [],
   "source": [
    "import cv2\n",
    "CAMERA_DEVICE_ID = 0\n",
    "# Define the codec and create VideoWriter object\n",
    "fourcc = cv2.VideoWriter_fourcc(*'XVID')\n",
    "out = cv2.VideoWriter('output/brim.avi', fourcc, 7.0, (640, 480))\n",
    "\n",
    "video_capture = cv2.VideoCapture(CAMERA_DEVICE_ID)\n",
    "\n",
    "while video_capture.isOpened():\n",
    "    # Grab a single frame of video (and check if it went ok)\n",
    "    ok, frame = video_capture.read()\n",
    "    # Display the resulting image\n",
    "    cv2.imshow('Video', frame)\n",
    "\n",
    "    # write the flipped frame\n",
    "    out.write(frame)\n",
    "\n",
    "    if cv2.waitKey(1) & 0xFF == ord('w'):\n",
    "        print('User Exit')\n",
    "        break\n",
    "\n",
    "print(ord('q'))\n",
    "print(cv2.waitKey(2000))\n",
    "video_capture.release()\n",
    "out.release()\n",
    "cv2.destroyAllWindows()"
   ]
  },
  {
   "cell_type": "code",
   "execution_count": null,
   "metadata": {
    "collapsed": true
   },
   "outputs": [],
   "source": [
    "print(cv2.waitKey(1000) & 0xFF == ord('q'))"
   ]
  },
  {
   "cell_type": "code",
   "execution_count": null,
   "metadata": {
    "collapsed": true
   },
   "outputs": [],
   "source": [
    "import time\n",
    "def CaptureImage():\n",
    "\timageName = 'DontCare.jpg' #Just a random string\n",
    "\tcap = cv2.VideoCapture(0)\n",
    "\twhile(True):\n",
    "\t    # Capture frame-by-frame\n",
    "\t    ret, frame = cap.read()\n",
    "\n",
    "\t    #gray = cv2.cvtColor(frame, cv2.COLOR_BGR2GRAY) #For capture image in monochrome\n",
    "\t    rgbImage = frame #For capture the image in RGB color space\n",
    "\n",
    "\t    # Display the resulting frame\n",
    "\t    cv2.imshow('Webcam',rgbImage)\n",
    "\t    #Wait to press 'q' key for capturing\n",
    "\t    if cv2.waitKey(1) & 0xFF == ord('q'):\n",
    "\t        #Set the image name to the date it was captured\n",
    "\t        imageName = str(time.strftime(\"%Y_%m_%d_%H_%M\")) + '.jpg'\n",
    "\t        #Save the image\n",
    "\t        cv2.imwrite(imageName, rgbImage)\n",
    "\t        break\n",
    "\t# When everything done, release the capture\n",
    "\tcap.release()\n",
    "\tcv2.destroyAllWindows()\n",
    "\t#Returns the captured image's name\n",
    "\treturn imageName "
   ]
  },
  {
   "cell_type": "code",
   "execution_count": null,
   "metadata": {
    "collapsed": true
   },
   "outputs": [],
   "source": [
    "CaptureImage()"
   ]
  }
 ],
 "metadata": {
  "kernelspec": {
   "display_name": "Python 3",
   "language": "python",
   "name": "python3"
  },
  "language_info": {
   "codemirror_mode": {
    "name": "ipython",
    "version": 3
   },
   "file_extension": ".py",
   "mimetype": "text/x-python",
   "name": "python",
   "nbconvert_exporter": "python",
   "pygments_lexer": "ipython3",
   "version": "3.6.1"
  }
 },
 "nbformat": 4,
 "nbformat_minor": 2
}
